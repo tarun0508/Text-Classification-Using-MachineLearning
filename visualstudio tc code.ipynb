{
  "nbformat": 4,
  "nbformat_minor": 0,
  "metadata": {
    "colab": {
      "provenance": []
    },
    "kernelspec": {
      "name": "python3",
      "display_name": "Python 3"
    },
    "language_info": {
      "name": "python"
    }
  },
  "cells": [
    {
      "cell_type": "code",
      "execution_count": null,
      "metadata": {
        "id": "H0fs0Ud3REZ5"
      },
      "outputs": [],
      "source": [
        "\n",
        "import pandas as pd \n",
        "\n",
        "import matplotlib.pyplot as plt\n",
        "%matplotlib inline\n",
        "\n",
        "import warnings\n",
        "warnings.filterwarnings('ignore')"
      ]
    },
    {
      "cell_type": "markdown",
      "source": [
        "# New Section"
      ],
      "metadata": {
        "id": "h7gOCXLZeiM5"
      }
    },
    {
      "cell_type": "code",
      "source": [
        "from google.colab import drive\n",
        "drive.mount('/content/drive')"
      ],
      "metadata": {
        "colab": {
          "base_uri": "https://localhost:8080/"
        },
        "id": "vECGplv_RQPu",
        "outputId": "4791d0d9-ffff-4e8e-a723-c8ced267db3c"
      },
      "execution_count": null,
      "outputs": [
        {
          "output_type": "stream",
          "name": "stdout",
          "text": [
            "Drive already mounted at /content/drive; to attempt to forcibly remount, call drive.mount(\"/content/drive\", force_remount=True).\n"
          ]
        }
      ]
    },
    {
      "cell_type": "code",
      "source": [
        "\n",
        "\n",
        "import os\n",
        "\n",
        "df =  pd.read_csv(\"/content/drive/MyDrive/text_classification/bbc-text.csv\")"
      ],
      "metadata": {
        "id": "rGQBWe5hRUJI"
      },
      "execution_count": null,
      "outputs": []
    },
    {
      "cell_type": "code",
      "source": [
        "print('Shape: ', df.shape)\n",
        "print(\"\")\n",
        "print('Columns: ', df.columns)\n",
        "print(\"\")\n",
        "print('Category: ', df.category.unique())"
      ],
      "metadata": {
        "colab": {
          "base_uri": "https://localhost:8080/"
        },
        "id": "Yqn8FSWiRd23",
        "outputId": "d60e48b6-b6d4-4c6c-b6c2-6605c8ab04e1"
      },
      "execution_count": null,
      "outputs": [
        {
          "output_type": "stream",
          "name": "stdout",
          "text": [
            "Shape:  (2225, 2)\n",
            "\n",
            "Columns:  Index(['category', 'text'], dtype='object')\n",
            "\n",
            "Category:  ['tech' 'business' 'sport' 'entertainment' 'politics']\n"
          ]
        }
      ]
    },
    {
      "cell_type": "code",
      "source": [
        "print('Top Rows: ', df)"
      ],
      "metadata": {
        "colab": {
          "base_uri": "https://localhost:8080/"
        },
        "id": "x44pM4ZMRhcI",
        "outputId": "578099a8-0be5-4a5a-bbc0-1fd44b47a660"
      },
      "execution_count": null,
      "outputs": [
        {
          "output_type": "stream",
          "name": "stdout",
          "text": [
            "Top Rows:             category                                               text\n",
            "0              tech  tv future in the hands of viewers with home th...\n",
            "1          business  worldcom boss  left books alone  former worldc...\n",
            "2             sport  tigers wary of farrell  gamble  leicester say ...\n",
            "3             sport  yeading face newcastle in fa cup premiership s...\n",
            "4     entertainment  ocean s twelve raids box office ocean s twelve...\n",
            "...             ...                                                ...\n",
            "2220       business  cars pull down us retail figures us retail sal...\n",
            "2221       politics  kilroy unveils immigration policy ex-chatshow ...\n",
            "2222  entertainment  rem announce new glasgow concert us band rem h...\n",
            "2223       politics  how political squabbles snowball it s become c...\n",
            "2224          sport  souness delight at euro progress boss graeme s...\n",
            "\n",
            "[2225 rows x 2 columns]\n"
          ]
        }
      ]
    },
    {
      "cell_type": "code",
      "source": [
        "print(df.groupby(['category']).count())\n",
        "df.groupby(['category']).count().plot.bar()"
      ],
      "metadata": {
        "colab": {
          "base_uri": "https://localhost:8080/",
          "height": 480
        },
        "id": "KobyJITgRk3R",
        "outputId": "ad5f3169-222c-44ef-c819-c4bfe42e24ab"
      },
      "execution_count": null,
      "outputs": [
        {
          "output_type": "stream",
          "name": "stdout",
          "text": [
            "               text\n",
            "category           \n",
            "business        510\n",
            "entertainment   386\n",
            "politics        417\n",
            "sport           511\n",
            "tech            401\n"
          ]
        },
        {
          "output_type": "execute_result",
          "data": {
            "text/plain": [
              "<matplotlib.axes._subplots.AxesSubplot at 0x7fcb78da5f50>"
            ]
          },
          "metadata": {},
          "execution_count": 7
        },
        {
          "output_type": "display_data",
          "data": {
            "text/plain": [
              "<Figure size 432x288 with 1 Axes>"
            ],
            "image/png": "[encoded data removed]"
          },
          "metadata": {
            "needs_background": "light"
          }
        }
      ]
    },
    {
      "cell_type": "code",
      "source": [
        "\n",
        "import re\n",
        "\n",
        "import nltk\n",
        "from nltk.stem import WordNetLemmatizer\n",
        "\n",
        "nltk.download('omw-1.4')\n",
        "nltk.download('punkt')\n",
        "nltk.download('stopwords')\n",
        "nltk.download('wordnet')"
      ],
      "metadata": {
        "colab": {
          "base_uri": "https://localhost:8080/"
        },
        "id": "b9bzJKrKRoYN",
        "outputId": "f3b24117-4ab3-4bef-c4a4-e139b9280050"
      },
      "execution_count": null,
      "outputs": [
        {
          "output_type": "stream",
          "name": "stderr",
          "text": [
            "[nltk_data] Downloading package omw-1.4 to /root/nltk_data...\n",
            "[nltk_data] Downloading package punkt to /root/nltk_data...\n",
            "[nltk_data]   Unzipping tokenizers/punkt.zip.\n",
            "[nltk_data] Downloading package stopwords to /root/nltk_data...\n",
            "[nltk_data]   Unzipping corpora/stopwords.zip.\n",
            "[nltk_data] Downloading package wordnet to /root/nltk_data...\n"
          ]
        },
        {
          "output_type": "execute_result",
          "data": {
            "text/plain": [
              "True"
            ]
          },
          "metadata": {},
          "execution_count": 8
        }
      ]
    },
    {
      "cell_type": "code",
      "source": [
        "\n",
        "def clean_text(web_text):\n",
        "\n",
        "\n",
        "    text_clean = web_text.lower()\n",
        "\n",
        "    text_clean = re.sub(r'[^a-z]', ' ', text_clean)\n",
        "\n",
        "    stop_words = set(nltk.corpus.stopwords.words(\"english\"))\n",
        "    text_clean = ' '.join([word for word in text_clean.split() if word not in stop_words])\n",
        "\n",
        "    wordnet_lemmatizer = WordNetLemmatizer()\n",
        "    lemmatized_list = []\n",
        "    text_words = text_clean.split(\" \")\n",
        "     \n",
        "    for word in text_words:\n",
        "        lemmatized_list.append(wordnet_lemmatizer.lemmatize(word, pos=\"v\"))\n",
        "\n",
        "    text_clean = \" \".join(lemmatized_list)\n",
        "     \n",
        "    return text_clean"
      ],
      "metadata": {
        "id": "Hnn19vfPRscC"
      },
      "execution_count": null,
      "outputs": []
    },
    {
      "cell_type": "code",
      "source": [
        "df['text_clean'] = df['text']\n",
        "    \n",
        "n_rows = len(df)\n",
        "\n",
        "for row in range(0, n_rows):\n",
        "    \n",
        "    text = df.loc[row]['text']\n",
        "    df.loc[row]['text_clean'] = clean_text(text)"
      ],
      "metadata": {
        "id": "6lx4WPvdR2Iy"
      },
      "execution_count": null,
      "outputs": []
    },
    {
      "cell_type": "code",
      "source": [
        "print('Before cleaning:')\n",
        "df['text']"
      ],
      "metadata": {
        "colab": {
          "base_uri": "https://localhost:8080/"
        },
        "id": "TBaznv5RR96z",
        "outputId": "9ea7c9a6-904b-4e5f-f84f-5bc85a0891e4"
      },
      "execution_count": null,
      "outputs": [
        {
          "output_type": "stream",
          "name": "stdout",
          "text": [
            "Before cleaning:\n"
          ]
        },
        {
          "output_type": "execute_result",
          "data": {
            "text/plain": [
              "0       tv future in the hands of viewers with home th...\n",
              "1       worldcom boss  left books alone  former worldc...\n",
              "2       tigers wary of farrell  gamble  leicester say ...\n",
              "3       yeading face newcastle in fa cup premiership s...\n",
              "4       ocean s twelve raids box office ocean s twelve...\n",
              "                              ...                        \n",
              "2220    cars pull down us retail figures us retail sal...\n",
              "2221    kilroy unveils immigration policy ex-chatshow ...\n",
              "2222    rem announce new glasgow concert us band rem h...\n",
              "2223    how political squabbles snowball it s become c...\n",
              "2224    souness delight at euro progress boss graeme s...\n",
              "Name: text, Length: 2225, dtype: object"
            ]
          },
          "metadata": {},
          "execution_count": 11
        }
      ]
    },
    {
      "cell_type": "code",
      "source": [
        "print('After cleaning:')\n",
        "df['text_clean']"
      ],
      "metadata": {
        "colab": {
          "base_uri": "https://localhost:8080/"
        },
        "id": "a4tpPOXRSBn2",
        "outputId": "651a4c2b-8a83-4f38-e99c-c2016b4e7c2d"
      },
      "execution_count": null,
      "outputs": [
        {
          "output_type": "stream",
          "name": "stdout",
          "text": [
            "After cleaning:\n"
          ]
        },
        {
          "output_type": "execute_result",
          "data": {
            "text/plain": [
              "0       tv future hand viewers home theatre systems pl...\n",
              "1       worldcom boss leave book alone former worldcom...\n",
              "2       tigers wary farrell gamble leicester say rush ...\n",
              "3       yeading face newcastle fa cup premiership side...\n",
              "4       ocean twelve raid box office ocean twelve crim...\n",
              "                              ...                        \n",
              "2220    cars pull us retail figure us retail sales fel...\n",
              "2221    kilroy unveil immigration policy ex chatshow h...\n",
              "2222    rem announce new glasgow concert us band rem a...\n",
              "2223    political squabble snowball become commonplace...\n",
              "2224    souness delight euro progress boss graeme soun...\n",
              "Name: text_clean, Length: 2225, dtype: object"
            ]
          },
          "metadata": {},
          "execution_count": 12
        }
      ]
    },
    {
      "cell_type": "code",
      "source": [
        "category_codes = {\n",
        "    'business': 0,\n",
        "    'entertainment': 1,\n",
        "    'politics': 2,\n",
        "    'sport': 3,\n",
        "    'tech': 4\n",
        "}\n",
        "\n",
        "df['category_code'] = df['category']\n",
        "df = df.replace({'category_code':category_codes})\n",
        "print('Top Rows: ', df)"
      ],
      "metadata": {
        "colab": {
          "base_uri": "https://localhost:8080/"
        },
        "id": "fwyG6741SFfr",
        "outputId": "4c8f42a1-a770-4313-a39d-d078ad9a7dc8"
      },
      "execution_count": null,
      "outputs": [
        {
          "output_type": "stream",
          "name": "stdout",
          "text": [
            "Top Rows:             category                                               text  \\\n",
            "0              tech  tv future in the hands of viewers with home th...   \n",
            "1          business  worldcom boss  left books alone  former worldc...   \n",
            "2             sport  tigers wary of farrell  gamble  leicester say ...   \n",
            "3             sport  yeading face newcastle in fa cup premiership s...   \n",
            "4     entertainment  ocean s twelve raids box office ocean s twelve...   \n",
            "...             ...                                                ...   \n",
            "2220       business  cars pull down us retail figures us retail sal...   \n",
            "2221       politics  kilroy unveils immigration policy ex-chatshow ...   \n",
            "2222  entertainment  rem announce new glasgow concert us band rem h...   \n",
            "2223       politics  how political squabbles snowball it s become c...   \n",
            "2224          sport  souness delight at euro progress boss graeme s...   \n",
            "\n",
            "                                             text_clean  category_code  \n",
            "0     tv future hand viewers home theatre systems pl...              4  \n",
            "1     worldcom boss leave book alone former worldcom...              0  \n",
            "2     tigers wary farrell gamble leicester say rush ...              3  \n",
            "3     yeading face newcastle fa cup premiership side...              3  \n",
            "4     ocean twelve raid box office ocean twelve crim...              1  \n",
            "...                                                 ...            ...  \n",
            "2220  cars pull us retail figure us retail sales fel...              0  \n",
            "2221  kilroy unveil immigration policy ex chatshow h...              2  \n",
            "2222  rem announce new glasgow concert us band rem a...              1  \n",
            "2223  political squabble snowball become commonplace...              2  \n",
            "2224  souness delight euro progress boss graeme soun...              3  \n",
            "\n",
            "[2225 rows x 4 columns]\n"
          ]
        }
      ]
    },
    {
      "cell_type": "code",
      "source": [
        "# sklearn - library for machine learning\n",
        "# train_test_split - Split arrays or metrics into random train and test subsets\n",
        "from sklearn.model_selection import train_test_split"
      ],
      "metadata": {
        "id": "1D-VDEQjgjHt"
      },
      "execution_count": null,
      "outputs": []
    },
    {
      "cell_type": "code",
      "source": [
        "X_train, X_test, y_train, y_test = train_test_split(df['text_clean'], \n",
        "                                                    df['category_code'], \n",
        "                                                    test_size=0.15, \n",
        "                                                    random_state=8)"
      ],
      "metadata": {
        "id": "2aHwGlBpgok9"
      },
      "execution_count": null,
      "outputs": []
    },
    {
      "cell_type": "code",
      "source": [
        "# TfidfVectorizer - Convert a collection of raw documents to a matrix of TF-IDF features\n",
        "from sklearn.feature_extraction.text import TfidfVectorizer"
      ],
      "metadata": {
        "id": "5-cPhKoqgqqk"
      },
      "execution_count": null,
      "outputs": []
    },
    {
      "cell_type": "code",
      "source": [
        "# Parameter election\n",
        "ngram_range = (1,2)\n",
        "min_df = 10\n",
        "max_df = 1.\n",
        "max_features = 300\n",
        "\n",
        "tfidf = TfidfVectorizer(encoding='utf-8',\n",
        "                        ngram_range=ngram_range,\n",
        "                        stop_words=None,\n",
        "                        lowercase=False,\n",
        "                        max_df=max_df,\n",
        "                        min_df=min_df,\n",
        "                        max_features=max_features,\n",
        "                        norm='l2',\n",
        "                        sublinear_tf=True)\n",
        "\n",
        "# Transform documents to a matrix in train\n",
        "features_train = tfidf.fit_transform(X_train).toarray()\n",
        "labels_train = y_train\n",
        "print(features_train.shape)\n",
        "\n",
        "# Transform documents to a matrix in test\n",
        "features_test = tfidf.transform(X_test).toarray()\n",
        "labels_test = y_test\n",
        "print(features_test.shape)"
      ],
      "metadata": {
        "id": "Nga9JJzqgvJt",
        "colab": {
          "base_uri": "https://localhost:8080/"
        },
        "outputId": "49f98aa9-659a-49fc-a388-7281442eb930"
      },
      "execution_count": null,
      "outputs": [
        {
          "output_type": "stream",
          "name": "stdout",
          "text": [
            "(1891, 300)\n",
            "(334, 300)\n"
          ]
        }
      ]
    },
    {
      "cell_type": "code",
      "source": [
        "# sklearn - library for machine learning\n",
        "# SVM - support-vector machines - supervised learning models for classification\n",
        "from sklearn import svm\n",
        "# RandomizedSearchCV - randomized search on hyper parameters\n",
        "from sklearn.model_selection import RandomizedSearchCV\n",
        "# sklearn.metrics -  for evaluating the quality of a model’s predictions\n",
        "from sklearn.metrics import classification_report, confusion_matrix, accuracy_score\n",
        "\n",
        "# seaborn - library for statistical data visualization\n",
        "import seaborn as sns"
      ],
      "metadata": {
        "id": "dHkKGDOigyO0"
      },
      "execution_count": null,
      "outputs": []
    },
    {
      "cell_type": "code",
      "source": [
        "# Default hyperparameters \n",
        "svc = svm.SVC(random_state=8)\n",
        "print(svc.get_params())"
      ],
      "metadata": {
        "id": "uVzialpXg0uU",
        "colab": {
          "base_uri": "https://localhost:8080/"
        },
        "outputId": "5a8a610c-4c9f-4ae4-9ad8-f72e0051d557"
      },
      "execution_count": null,
      "outputs": [
        {
          "output_type": "stream",
          "name": "stdout",
          "text": [
            "{'C': 1.0, 'break_ties': False, 'cache_size': 200, 'class_weight': None, 'coef0': 0.0, 'decision_function_shape': 'ovr', 'degree': 3, 'gamma': 'scale', 'kernel': 'rbf', 'max_iter': -1, 'probability': False, 'random_state': 8, 'shrinking': True, 'tol': 0.001, 'verbose': False}\n"
          ]
        }
      ]
    },
    {
      "cell_type": "code",
      "source": [
        "# Cross Validation\n",
        "C = [.0001, .001, .01]\n",
        "gamma = [.0001, .001, .01, .1, 1, 10, 100]\n",
        "degree = [1, 2, 3, 4, 5]\n",
        "kernel = ['linear', 'rbf', 'poly']\n",
        "probability = [True]\n",
        "\n",
        "random_grid = {'C': C,\n",
        "              'kernel': kernel,\n",
        "              'gamma': gamma,\n",
        "              'degree': degree,\n",
        "              'probability': probability\n",
        "             }\n",
        "\n",
        "print(random_grid)"
      ],
      "metadata": {
        "id": "YSOS0dUKg4es",
        "colab": {
          "base_uri": "https://localhost:8080/"
        },
        "outputId": "d35eb6b9-809b-469c-b48a-c9ade40b2f86"
      },
      "execution_count": null,
      "outputs": [
        {
          "output_type": "stream",
          "name": "stdout",
          "text": [
            "{'C': [0.0001, 0.001, 0.01], 'kernel': ['linear', 'rbf', 'poly'], 'gamma': [0.0001, 0.001, 0.01, 0.1, 1, 10, 100], 'degree': [1, 2, 3, 4, 5], 'probability': [True]}\n"
          ]
        }
      ]
    },
    {
      "cell_type": "code",
      "source": [
        "# Definition of the random search\n",
        "random_search = RandomizedSearchCV(estimator=svc,\n",
        "                                   param_distributions=random_grid,\n",
        "                                   n_iter=50,\n",
        "                                   scoring='accuracy',\n",
        "                                   cv=3, \n",
        "                                   verbose=1, \n",
        "                                   random_state=8)\n",
        "\n",
        "# Fit the random search model\n",
        "random_search.fit(features_train, labels_train)"
      ],
      "metadata": {
        "colab": {
          "base_uri": "https://localhost:8080/"
        },
        "id": "YciG7IlPyQJG",
        "outputId": "985bcf70-a85b-4bd3-9735-f420e537164d"
      },
      "execution_count": null,
      "outputs": [
        {
          "output_type": "stream",
          "name": "stdout",
          "text": [
            "Fitting 3 folds for each of 50 candidates, totalling 150 fits\n"
          ]
        },
        {
          "output_type": "execute_result",
          "data": {
            "text/plain": [
              "RandomizedSearchCV(cv=3, estimator=SVC(random_state=8), n_iter=50,\n",
              "                   param_distributions={'C': [0.0001, 0.001, 0.01],\n",
              "                                        'degree': [1, 2, 3, 4, 5],\n",
              "                                        'gamma': [0.0001, 0.001, 0.01, 0.1, 1,\n",
              "                                                  10, 100],\n",
              "                                        'kernel': ['linear', 'rbf', 'poly'],\n",
              "                                        'probability': [True]},\n",
              "                   random_state=8, scoring='accuracy', verbose=1)"
            ]
          },
          "metadata": {},
          "execution_count": 21
        }
      ]
    },
    {
      "cell_type": "code",
      "source": [
        "# Find best hyperparameters from random_grid\n",
        "best_svc = random_search.best_estimator_\n",
        "\n",
        "print('Best hyperparameters',random_search.best_params_)\n",
        "print(\"\")\n",
        "print('Accuracy', random_search.best_score_)"
      ],
      "metadata": {
        "colab": {
          "base_uri": "https://localhost:8080/"
        },
        "id": "G_WgbWndyh5B",
        "outputId": "e5cdfaa3-7325-468d-d899-8d23c4aa49bf"
      },
      "execution_count": null,
      "outputs": [
        {
          "output_type": "stream",
          "name": "stdout",
          "text": [
            "Best hyperparameters {'probability': True, 'kernel': 'poly', 'gamma': 10, 'degree': 4, 'C': 0.01}\n",
            "\n",
            "Accuracy 0.9328461583612139\n"
          ]
        }
      ]
    },
    {
      "cell_type": "code",
      "source": [
        "# Fit the best model to the train\n",
        "best_svc.fit(features_train, labels_train)\n",
        "\n",
        "# Find the prediction on the test\n",
        "svc_predict = best_svc.predict(features_test)\n",
        "\n",
        "print(\"Accuracy score on train: \", accuracy_score(labels_train, best_svc.predict(features_train)))"
      ],
      "metadata": {
        "colab": {
          "base_uri": "https://localhost:8080/"
        },
        "id": "mcoEzgLCyqtL",
        "outputId": "c0c62f11-d10e-4821-86c1-a2c0a3f9e534"
      },
      "execution_count": null,
      "outputs": [
        {
          "output_type": "stream",
          "name": "stdout",
          "text": [
            "Accuracy score on train:  1.0\n"
          ]
        }
      ]
    },
    {
      "cell_type": "code",
      "source": [
        "# Classification report\n",
        "print(\"Classification report: \")\n",
        "print(classification_report(labels_test, svc_predict))"
      ],
      "metadata": {
        "colab": {
          "base_uri": "https://localhost:8080/"
        },
        "id": "1h2o5GN9yuzi",
        "outputId": "58134b58-d8cf-4f5e-d02d-98063ce8bf9a"
      },
      "execution_count": null,
      "outputs": [
        {
          "output_type": "stream",
          "name": "stdout",
          "text": [
            "Classification report: \n",
            "              precision    recall  f1-score   support\n",
            "\n",
            "           0       0.92      0.99      0.95        77\n",
            "           1       0.98      0.95      0.97        63\n",
            "           2       0.98      0.90      0.94        61\n",
            "           3       0.96      0.99      0.97        77\n",
            "           4       0.98      0.96      0.97        56\n",
            "\n",
            "    accuracy                           0.96       334\n",
            "   macro avg       0.97      0.96      0.96       334\n",
            "weighted avg       0.96      0.96      0.96       334\n",
            "\n"
          ]
        }
      ]
    },
    {
      "cell_type": "code",
      "source": [
        "# Confusion matrix - summary of prediction results on a classification problem\n",
        "aux_df = df[['category', 'category_code']].drop_duplicates().sort_values('category_code')\n",
        "conf_matrix = confusion_matrix(labels_test, svc_predict)\n",
        "plt.figure(figsize=(12.8,6))\n",
        "sns.heatmap(conf_matrix, \n",
        "            annot=True,\n",
        "            xticklabels=aux_df['category'].values, \n",
        "            yticklabels=aux_df['category'].values,\n",
        "            cmap=\"Blues\")\n",
        "plt.ylabel('Predicted')\n",
        "plt.xlabel('Actual')\n",
        "plt.title('Confusion matrix')\n",
        "plt.show()"
      ],
      "metadata": {
        "colab": {
          "base_uri": "https://localhost:8080/",
          "height": 404
        },
        "id": "uQ0G0q4qyxqC",
        "outputId": "78f828a7-e02e-4574-ede6-c056704c0a7d"
      },
      "execution_count": null,
      "outputs": [
        {
          "output_type": "display_data",
          "data": {
            "text/plain": [
              "<Figure size 921.6x432 with 2 Axes>"
            ],
            "image/png": "[encoded data removed]"
          },
          "metadata": {
            "needs_background": "light"
          }
        }
      ]
    },
    {
      "cell_type": "code",
      "source": [
        "# Urllib - package for handling URL\n",
        "from urllib.request import urlopen\n",
        "\n",
        "# BeautifulSoup - library for pulling data out of HTML and XML files\n",
        "from bs4 import BeautifulSoup"
      ],
      "metadata": {
        "id": "daa1WG4-y-aA"
      },
      "execution_count": null,
      "outputs": []
    },
    {
      "cell_type": "code",
      "source": [
        "def get_website_text(url):\n",
        "\n",
        "    html = urlopen(url).read()\n",
        "\n",
        "    # get HTML from websites\n",
        "    soup = BeautifulSoup(html, features=\"html.parser\")\n",
        "\n",
        "    # remove script and style elements\n",
        "    for script in soup([\"script\", \"style\"]):\n",
        "        script.extract()    \n",
        "\n",
        "    # get text\n",
        "    text = soup.get_text()\n",
        "\n",
        "    # break into lines and remove leading and trailing space on each\n",
        "    lines = (line.strip() for line in text.splitlines())\n",
        "\n",
        "    # break multi-headlines into a line each\n",
        "    chunks = (phrase.strip() for line in lines for phrase in line.split(\"  \"))\n",
        "\n",
        "    # drop blank lines\n",
        "    text = '\\n'.join(chunk for chunk in chunks if chunk)\n",
        "\n",
        "    return(text)"
      ],
      "metadata": {
        "id": "QDXeoXZJzCmv"
      },
      "execution_count": null,
      "outputs": []
    },
    {
      "cell_type": "code",
      "source": [
        "# list of website for testing \n",
        "urls = [\"https://techcrunch.com/2022/02/18/coatue-backs-kubercosts-goal-of-supply-data-to-millions-of-kubernetes-developers/\",\n",
        "        \"https://www.bbc.com/sport/formula1/60431001\",\n",
        "        \"https://www.bbc.com/sport/cricket\",\n",
        "        \"https://indianexpress.com/section/india/political-pulse/\",\n",
        "        \"https://indianexpress.com/section/entertainment/\",\n",
        "        \"https://indianexpress.com/section/business/\",\n",
        "        \"https://drive.google.com/file/d/1qMfkNY1-ybVQx6h7-e60Qrtlerwqeg5C/view?usp=sharing/\",\n",
        "        \"https://drive.google.com/file/d/1YmFQ4WiUa3OjVVLUlJrd3I2E951b97Ge/view?usp=sharing/\",\n",
        "        \"https://www.bbc.com/news/technology/\"]\n",
        "\n",
        "\n",
        "# categories for each site 'entertainment', 'business'\n",
        "categorys = ['tech','sport','sport','politics','business','entertainment','sport','sport','tech']\n",
        "\n",
        "# build real data DataFrame\n",
        "website_df = pd.DataFrame(columns =[\"url\", \"text\", \"category\", \"category_code\" , \"predict code\"])\n",
        "website_df['url'] = urls\n",
        "website_df['category'] = categorys\n",
        "website_df['category_code'] = website_df['category']\n",
        "website_df = website_df.replace({'category_code':category_codes})"
      ],
      "metadata": {
        "id": "05oe2ixbzELL"
      },
      "execution_count": null,
      "outputs": []
    },
    {
      "cell_type": "code",
      "source": [
        "# pull, clean and fill website text from url\n",
        "texts = []\n",
        "\n",
        "for url in urls:\n",
        "    text = get_website_text(url)\n",
        "    text = clean_text(text)\n",
        "    texts.append(text)\n",
        "    \n",
        "website_df['text'] = texts  "
      ],
      "metadata": {
        "id": "3HXxz55-zLIM"
      },
      "execution_count": null,
      "outputs": []
    },
    {
      "cell_type": "code",
      "source": [
        "features_real_data = tfidf.transform(website_df['text']).toarray()\n",
        "labels_real_data = website_df['category_code']\n",
        "svc_predict_real_data = best_svc.predict(features_real_data)\n",
        "\n",
        "website_df['predict code'] = svc_predict_real_data\n",
        "\n",
        "print(website_df[['url', 'category_code', 'predict code']])"
      ],
      "metadata": {
        "colab": {
          "base_uri": "https://localhost:8080/"
        },
        "id": "w-oKCjTmzSGJ",
        "outputId": "91216d41-17cf-4be9-d4c6-e3bb180256aa"
      },
      "execution_count": null,
      "outputs": [
        {
          "output_type": "stream",
          "name": "stdout",
          "text": [
            "                                                 url  category_code  \\\n",
            "0  https://techcrunch.com/2022/02/18/coatue-backs...              4   \n",
            "1        https://www.bbc.com/sport/formula1/60431001              3   \n",
            "2                  https://www.bbc.com/sport/cricket              3   \n",
            "3  https://indianexpress.com/section/india/politi...              2   \n",
            "4   https://indianexpress.com/section/entertainment/              0   \n",
            "5        https://indianexpress.com/section/business/              1   \n",
            "6  https://drive.google.com/file/d/1qMfkNY1-ybVQx...              3   \n",
            "7  https://drive.google.com/file/d/1YmFQ4WiUa3OjV...              3   \n",
            "8               https://www.bbc.com/news/technology/              4   \n",
            "\n",
            "   predict code  \n",
            "0             0  \n",
            "1             3  \n",
            "2             3  \n",
            "3             4  \n",
            "4             1  \n",
            "5             0  \n",
            "6             0  \n",
            "7             0  \n",
            "8             4  \n"
          ]
        }
      ]
    },
    {
      "cell_type": "code",
      "source": [
        "# Classification report\n",
        "print(\"Classification report: \")\n",
        "print(classification_report(labels_real_data, svc_predict_real_data))"
      ],
      "metadata": {
        "colab": {
          "base_uri": "https://localhost:8080/"
        },
        "id": "BwzHnhU1o2Qj",
        "outputId": "94bc927c-b790-4ec7-9b3f-5177801a6a71"
      },
      "execution_count": null,
      "outputs": [
        {
          "output_type": "stream",
          "name": "stdout",
          "text": [
            "Classification report: \n",
            "              precision    recall  f1-score   support\n",
            "\n",
            "           0       0.00      0.00      0.00         1\n",
            "           1       0.00      0.00      0.00         1\n",
            "           2       0.00      0.00      0.00         1\n",
            "           3       1.00      0.50      0.67         4\n",
            "           4       0.50      0.50      0.50         2\n",
            "\n",
            "    accuracy                           0.33         9\n",
            "   macro avg       0.30      0.20      0.23         9\n",
            "weighted avg       0.56      0.33      0.41         9\n",
            "\n"
          ]
        }
      ]
    },
    {
      "cell_type": "code",
      "source": [
        "\n",
        "# Confusion matrix - summary of prediction results on a classification problem\n",
        "aux_df = website_df[['category', 'category_code']].drop_duplicates().sort_values('category_code')\n",
        "conf_matrix = confusion_matrix(labels_real_data, svc_predict_real_data)\n",
        "#conf_matrix = confusion_matrix(labels_real_data, svc_predict_real_data)\n",
        "plt.figure(figsize=(12.8,6))\n",
        "sns.heatmap(conf_matrix, \n",
        "            annot=True,\n",
        "            xticklabels=aux_df['category'].values, \n",
        "            yticklabels=aux_df['category'].values,\n",
        "            cmap=\"Blues\")\n",
        "plt.ylabel('Predicted')\n",
        "plt.xlabel('Actual')\n",
        "plt.title('Confusion matrix')\n",
        "plt.show()"
      ],
      "metadata": {
        "colab": {
          "base_uri": "https://localhost:8080/",
          "height": 404
        },
        "id": "5QYXoUtdzX75",
        "outputId": "a0e27b7f-a767-4677-ec6d-af127212f02a"
      },
      "execution_count": null,
      "outputs": [
        {
          "output_type": "display_data",
          "data": {
            "text/plain": [
              "<Figure size 921.6x432 with 2 Axes>"
            ],
            "image/png": "[encoded data removed]"
          },
          "metadata": {
            "needs_background": "light"
          }
        }
      ]
    },
    {
      "cell_type": "code",
      "source": [],
      "metadata": {
        "id": "gdPaH6pCrYPF"
      },
      "execution_count": null,
      "outputs": []
    },
    {
      "cell_type": "code",
      "source": [
        "# list of website for testing \n",
        "urls = [\"https://techcrunch.com/2022/02/18/coatue-backs-kubercosts-goal-of-supply-data-to-millions-of-kubernetes-developers/\",\n",
        "        \"https://www.bbc.com/sport/formula1/60431001\", \n",
        "        \n",
        "        \"https://edition.cnn.com/world/live-news/beijing-winter-olympics-02-18-22-spt/index.html\", \n",
        "        \"https://edition.cnn.com/2022/02/18/politics/donald-trump-courts/index.html\", \n",
        "        \"https://www.bbc.com/news/entertainment-arts-60138866\", \n",
        "        \"https://www.cnbc.com/2022/02/19/us-listed-chinese-companies-need-beijings-approval-for-secondary-listings.html\",\n",
        "        \"https://www.cnbc.com/2022/02/16/google-plans-android-privacy-change-similar-to-apples.html\"]\n",
        "\n",
        "# categories for each site\n",
        "categorys = ['tech','sport', 'sport', 'politics', 'entertainment', 'business', 'tech']\n",
        "\n",
        "# build real data DataFrame\n",
        "website_df = pd.DataFrame(columns =[\"url\", \"text\", \"category\", \"category_code\" , \"predict code\"])\n",
        "website_df['url'] = urls\n",
        "website_df['category'] = categorys\n",
        "website_df['category_code'] = website_df['category']\n",
        "website_df = website_df.replace({'category_code':category_codes})"
      ],
      "metadata": {
        "id": "jMSHw1eBvYCX"
      },
      "execution_count": null,
      "outputs": []
    },
    {
      "cell_type": "code",
      "source": [],
      "metadata": {
        "id": "zjJ5W539rebw"
      },
      "execution_count": null,
      "outputs": []
    },
    {
      "cell_type": "code",
      "source": [
        "# pull, clean and fill website text from url\n",
        "texts = []\n",
        "\n",
        "for url in urls:\n",
        "    text = get_website_text(url)\n",
        "    text = clean_text(text)\n",
        "    texts.append(text)\n",
        "    \n",
        "website_df['text'] = texts    "
      ],
      "metadata": {
        "id": "h-qAiZ_8vdt9"
      },
      "execution_count": null,
      "outputs": []
    },
    {
      "cell_type": "code",
      "source": [
        "features_real_data = tfidf.transform(website_df['text']).toarray()\n",
        "labels_real_data = website_df['category_code']\n",
        "svc_predict_real_data = best_svc.predict(features_real_data)\n",
        "\n",
        "website_df['predict code'] = svc_predict_real_data\n",
        "\n",
        "print(website_df[['url', 'category_code', 'predict code']])"
      ],
      "metadata": {
        "colab": {
          "base_uri": "https://localhost:8080/"
        },
        "id": "S5x_h5OYvzFn",
        "outputId": "bd640590-cacd-4500-f44d-2ac2e5069347"
      },
      "execution_count": null,
      "outputs": [
        {
          "output_type": "stream",
          "name": "stdout",
          "text": [
            "                                                 url  category_code  \\\n",
            "0  https://techcrunch.com/2022/02/18/coatue-backs...              4   \n",
            "1        https://www.bbc.com/sport/formula1/60431001              3   \n",
            "2  https://edition.cnn.com/world/live-news/beijin...              3   \n",
            "3  https://edition.cnn.com/2022/02/18/politics/do...              2   \n",
            "4  https://www.bbc.com/news/entertainment-arts-60...              1   \n",
            "5  https://www.cnbc.com/2022/02/19/us-listed-chin...              0   \n",
            "6  https://www.cnbc.com/2022/02/16/google-plans-a...              4   \n",
            "\n",
            "   predict code  \n",
            "0             0  \n",
            "1             3  \n",
            "2             3  \n",
            "3             2  \n",
            "4             1  \n",
            "5             0  \n",
            "6             4  \n"
          ]
        }
      ]
    },
    {
      "cell_type": "code",
      "source": [],
      "metadata": {
        "id": "2OHBudLksLsU"
      },
      "execution_count": null,
      "outputs": []
    },
    {
      "cell_type": "code",
      "source": [
        "# Classification report\n",
        "print(\"Classification report: \")\n",
        "print(classification_report(labels_real_data, svc_predict_real_data))"
      ],
      "metadata": {
        "colab": {
          "base_uri": "https://localhost:8080/"
        },
        "outputId": "e02dd09c-9082-41bc-ba50-37c8d997b7cc",
        "id": "XgnBNl46sMG4"
      },
      "execution_count": null,
      "outputs": [
        {
          "output_type": "stream",
          "name": "stdout",
          "text": [
            "Classification report: \n",
            "              precision    recall  f1-score   support\n",
            "\n",
            "           0       0.50      1.00      0.67         1\n",
            "           1       1.00      1.00      1.00         1\n",
            "           2       1.00      1.00      1.00         1\n",
            "           3       1.00      1.00      1.00         2\n",
            "           4       1.00      0.50      0.67         2\n",
            "\n",
            "    accuracy                           0.86         7\n",
            "   macro avg       0.90      0.90      0.87         7\n",
            "weighted avg       0.93      0.86      0.86         7\n",
            "\n"
          ]
        }
      ]
    },
    {
      "cell_type": "code",
      "source": [
        "# Confusion matrix - summary of prediction results on a classification problem\n",
        "aux_df = website_df[['category', 'category_code']].drop_duplicates().sort_values('category_code')\n",
        "conf_matrix = confusion_matrix(labels_real_data, svc_predict_real_data)\n",
        "#conf_matrix = confusion_matrix(labels_real_data, svc_predict_real_data)\n",
        "plt.figure(figsize=(12.8,6))\n",
        "sns.heatmap(conf_matrix, \n",
        "            annot=True,\n",
        "            xticklabels=aux_df['category'].values, \n",
        "            yticklabels=aux_df['category'].values,\n",
        "            cmap=\"Blues\")\n",
        "plt.ylabel('Predicted')\n",
        "plt.xlabel('Actual')\n",
        "plt.title('Confusion matrix')\n",
        "plt.show()"
      ],
      "metadata": {
        "colab": {
          "base_uri": "https://localhost:8080/",
          "height": 404
        },
        "id": "af9BDKxPwJlm",
        "outputId": "5c5def49-e9ae-4623-f7a2-1fb6697f32a4"
      },
      "execution_count": null,
      "outputs": [
        {
          "output_type": "display_data",
          "data": {
            "text/plain": [
              "<Figure size 921.6x432 with 2 Axes>"
            ],
            "image/png": "[encoded data removed]"
          },
          "metadata": {
            "needs_background": "light"
          }
        }
      ]
    }
  ]
}